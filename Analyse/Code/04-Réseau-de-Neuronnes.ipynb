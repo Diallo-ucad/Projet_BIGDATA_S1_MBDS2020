{
 "cells": [
  {
   "cell_type": "code",
   "execution_count": 2,
   "metadata": {
    "id": "2YIRU9NB9NwB"
   },
   "outputs": [],
   "source": [
    "import pandas as pd\n",
    "import numpy as np\n",
    "from keras.models import Sequential\n",
    "from keras.layers import Dense\n",
    "from keras.wrappers.scikit_learn import KerasClassifier\n",
    "from keras.utils import np_utils\n",
    "from sklearn.model_selection import cross_val_score\n",
    "from sklearn.model_selection import KFold\n",
    "from sklearn.preprocessing import LabelEncoder\n",
    "from sklearn.pipeline import Pipeline\n",
    "\n",
    "from keras.models import Sequential\n",
    "from keras.layers import Dense, Activation, LeakyReLU\n",
    "from keras import backend\n",
    "from keras.callbacks import TensorBoard\n",
    "from keras.optimizers import Adam\n",
    "\n",
    "from sklearn.preprocessing import MinMaxScaler, StandardScaler, RobustScaler, LabelBinarizer"
   ]
  },
  {
   "cell_type": "code",
   "execution_count": 3,
   "metadata": {
    "id": "3skrzqRIPRol"
   },
   "outputs": [],
   "source": [
    "df_clients = pd.read_csv(\"new_data/Clients_immatriculation_predicted.csv\")"
   ]
  },
  {
   "cell_type": "code",
   "execution_count": 4,
   "metadata": {
    "colab": {
     "base_uri": "https://localhost:8080/"
    },
    "id": "f-7ErTkVPnFt",
    "outputId": "6825ea80-1152-4a03-8deb-1ff86ec756b7"
   },
   "outputs": [
    {
     "name": "stderr",
     "output_type": "stream",
     "text": [
      "/usr/local/lib/python3.6/dist-packages/ipykernel_launcher.py:4: SettingWithCopyWarning: \n",
      "A value is trying to be set on a copy of a slice from a DataFrame.\n",
      "Try using .loc[row_indexer,col_indexer] = value instead\n",
      "\n",
      "See the caveats in the documentation: https://pandas.pydata.org/pandas-docs/stable/user_guide/indexing.html#returning-a-view-versus-a-copy\n",
      "  after removing the cwd from sys.path.\n",
      "/usr/local/lib/python3.6/dist-packages/pandas/core/indexing.py:1734: SettingWithCopyWarning: \n",
      "A value is trying to be set on a copy of a slice from a DataFrame.\n",
      "Try using .loc[row_indexer,col_indexer] = value instead\n",
      "\n",
      "See the caveats in the documentation: https://pandas.pydata.org/pandas-docs/stable/user_guide/indexing.html#returning-a-view-versus-a-copy\n",
      "  isetter(loc, value[:, i].tolist())\n"
     ]
    }
   ],
   "source": [
    "df_entrainement = df_clients[['age', 'sexe', 'taux', 'situationFamiliale','nbEnfantsAcharge', 'DeuxiemeVoiture','predicted', 'occasion']]\n",
    "cols = ['age', 'taux','nbEnfantsAcharge']\n",
    "mns = MinMaxScaler()\n",
    "df_entrainement[cols] = MinMaxScaler().fit_transform(df_entrainement[cols])\n",
    "df_market = pd.read_csv('data/Marketing.csv')\n",
    "df_market[cols] = mns.fit_transform(df_market[cols])\n",
    "df_ent_new = df_entrainement[df_entrainement.occasion == False]\n",
    "df_ent_occ = df_entrainement[df_clients.occasion == True]"
   ]
  },
  {
   "cell_type": "code",
   "execution_count": 5,
   "metadata": {
    "id": "shmcQEwy9V0D"
   },
   "outputs": [],
   "source": [
    "def uniformCols(df, limit):\n",
    "  df_e_s = []\n",
    "  for pred in df.predicted.unique():\n",
    "    df_e_s.append(df[df.predicted == pred].sample(limit))\n",
    "\n",
    "\n",
    "  df_ent = pd.concat(df_e_s, ignore_index=False)\n",
    "\n",
    "  df_ent.predicted.value_counts()\n",
    "\n",
    "\n",
    "  return df\n",
    "\n",
    "df_ent_new = uniformCols(df_ent_new, 10000)\n",
    "df_ent_occ = uniformCols(df_ent_occ, 10000)"
   ]
  },
  {
   "cell_type": "code",
   "execution_count": 6,
   "metadata": {
    "id": "EAkePR4Z9int"
   },
   "outputs": [],
   "source": [
    "def dummiser(df,columns):\n",
    "  for column in columns:\n",
    "    print(column)\n",
    "    df[pd.get_dummies(df[column]).columns] = pd.get_dummies(df[column])\n",
    "    df = df.drop([column], axis=1)\n",
    "  return df\n",
    "\n",
    "def encode(df,column):\n",
    "  liste = df[column].unique()\n",
    "  dico = dict([(liste[i], i )for i in range(len(liste))])\n",
    "  for i in df.index.tolist():\n",
    "    key = df.at[i,column]\n",
    "    df.at[i, column] = dico[key]\n",
    "  return df[column]\n",
    "\n",
    "def df_to_float32(df): \n",
    "  for col in df.columns.values:\n",
    "    df[col] = np.asarray(df[col]).astype('float32')\n",
    "\n",
    "def create_entree_sortie(df_ent_occ):\n",
    "  entree = df_ent_occ[['age', 'sexe', 'taux', 'situationFamiliale','nbEnfantsAcharge', 'DeuxiemeVoiture']]\n",
    "  entree['sexe'] = encode(entree,'sexe')\n",
    "  entree['situationFamiliale'] = encode(entree,'situationFamiliale')\n",
    "  entree['DeuxiemeVoiture'] = encode(entree,'DeuxiemeVoiture')\n",
    "  df_to_float32(entree)\n",
    "\n",
    "  sortie = dummiser(df_ent_occ,['predicted'])[dummiser(df_ent_occ,['predicted']).columns[-5:]]\n",
    "  return entree, sortie"
   ]
  },
  {
   "cell_type": "code",
   "execution_count": 7,
   "metadata": {
    "id": "3VKrAFVyWid5"
   },
   "outputs": [],
   "source": [
    "from sklearn.model_selection import train_test_split\n",
    "from sklearn.cluster import KMeans"
   ]
  },
  {
   "cell_type": "code",
   "execution_count": 9,
   "metadata": {
    "colab": {
     "base_uri": "https://localhost:8080/"
    },
    "id": "y0_r48mxaJ73",
    "outputId": "f2268647-04c6-47df-c605-b3d153d6a34a"
   },
   "outputs": [
    {
     "name": "stderr",
     "output_type": "stream",
     "text": [
      "/usr/local/lib/python3.6/dist-packages/ipykernel_launcher.py:22: SettingWithCopyWarning: \n",
      "A value is trying to be set on a copy of a slice from a DataFrame.\n",
      "Try using .loc[row_indexer,col_indexer] = value instead\n",
      "\n",
      "See the caveats in the documentation: https://pandas.pydata.org/pandas-docs/stable/user_guide/indexing.html#returning-a-view-versus-a-copy\n",
      "/usr/local/lib/python3.6/dist-packages/ipykernel_launcher.py:23: SettingWithCopyWarning: \n",
      "A value is trying to be set on a copy of a slice from a DataFrame.\n",
      "Try using .loc[row_indexer,col_indexer] = value instead\n",
      "\n",
      "See the caveats in the documentation: https://pandas.pydata.org/pandas-docs/stable/user_guide/indexing.html#returning-a-view-versus-a-copy\n",
      "/usr/local/lib/python3.6/dist-packages/ipykernel_launcher.py:24: SettingWithCopyWarning: \n",
      "A value is trying to be set on a copy of a slice from a DataFrame.\n",
      "Try using .loc[row_indexer,col_indexer] = value instead\n",
      "\n",
      "See the caveats in the documentation: https://pandas.pydata.org/pandas-docs/stable/user_guide/indexing.html#returning-a-view-versus-a-copy\n",
      "/usr/local/lib/python3.6/dist-packages/ipykernel_launcher.py:18: SettingWithCopyWarning: \n",
      "A value is trying to be set on a copy of a slice from a DataFrame.\n",
      "Try using .loc[row_indexer,col_indexer] = value instead\n",
      "\n",
      "See the caveats in the documentation: https://pandas.pydata.org/pandas-docs/stable/user_guide/indexing.html#returning-a-view-versus-a-copy\n",
      "/usr/local/lib/python3.6/dist-packages/pandas/core/frame.py:3069: SettingWithCopyWarning: \n",
      "A value is trying to be set on a copy of a slice from a DataFrame.\n",
      "Try using .loc[row_indexer,col_indexer] = value instead\n",
      "\n",
      "See the caveats in the documentation: https://pandas.pydata.org/pandas-docs/stable/user_guide/indexing.html#returning-a-view-versus-a-copy\n",
      "  self[k1] = value[k2]\n"
     ]
    },
    {
     "name": "stdout",
     "output_type": "stream",
     "text": [
      "predicted\n",
      "predicted\n",
      "Epoch 1/10\n",
      "6565/6565 [==============================] - 15s 2ms/step - loss: 0.4920 - accuracy: 0.7587 - val_loss: 0.3497 - val_accuracy: 0.8061\n",
      "Epoch 2/10\n",
      "6565/6565 [==============================] - 14s 2ms/step - loss: 0.3556 - accuracy: 0.8055 - val_loss: 0.3461 - val_accuracy: 0.8116\n",
      "Epoch 3/10\n",
      "6565/6565 [==============================] - 14s 2ms/step - loss: 0.3519 - accuracy: 0.8062 - val_loss: 0.3421 - val_accuracy: 0.8122\n",
      "Epoch 4/10\n",
      "6565/6565 [==============================] - 14s 2ms/step - loss: 0.3490 - accuracy: 0.8072 - val_loss: 0.3413 - val_accuracy: 0.8118\n",
      "Epoch 5/10\n",
      "6565/6565 [==============================] - 14s 2ms/step - loss: 0.3469 - accuracy: 0.8080 - val_loss: 0.3433 - val_accuracy: 0.8092\n",
      "Epoch 6/10\n",
      "6565/6565 [==============================] - 14s 2ms/step - loss: 0.3474 - accuracy: 0.8076 - val_loss: 0.3426 - val_accuracy: 0.8074\n",
      "Epoch 7/10\n",
      "6565/6565 [==============================] - 14s 2ms/step - loss: 0.3460 - accuracy: 0.8065 - val_loss: 0.3402 - val_accuracy: 0.8135\n",
      "Epoch 8/10\n",
      "6565/6565 [==============================] - 14s 2ms/step - loss: 0.3459 - accuracy: 0.8077 - val_loss: 0.3415 - val_accuracy: 0.8132\n",
      "Epoch 9/10\n",
      "6565/6565 [==============================] - 14s 2ms/step - loss: 0.3454 - accuracy: 0.8076 - val_loss: 0.3421 - val_accuracy: 0.8113\n",
      "Epoch 10/10\n",
      "6565/6565 [==============================] - 14s 2ms/step - loss: 0.3447 - accuracy: 0.8087 - val_loss: 0.3407 - val_accuracy: 0.8138\n"
     ]
    }
   ],
   "source": [
    "# Voiture neuves: \n",
    "entree, sortie = create_entree_sortie(df_ent_new)\n",
    "X_train, X_test, y_train, y_test = train_test_split(entree, sortie,test_size=0.02, random_state=42)\n",
    "\n",
    "n_units = 100\n",
    "layers = 3\n",
    "n_batch = 100\n",
    "n_epochs = 10\n",
    "\n",
    "model = Sequential()\n",
    "model.add(Dense(units = X_train.shape[1], input_dim=X_train.shape[1], activation='relu'))\n",
    "\n",
    "for _ in range(layers - 1):\n",
    "    model.add(Dense(n_units, activation='relu'))\n",
    "\n",
    "model.add(Dense(5, activation='softmax'))\n",
    "model.compile(loss='categorical_crossentropy', optimizer='adam', metrics=['accuracy'])\n",
    "\n",
    "history = model.fit(X_train, y_train, \n",
    "                    batch_size=n_batch, epochs=n_epochs, \n",
    "                    validation_split = 0.01,\n",
    "                    callbacks=[TensorBoard()],\n",
    "                    verbose=1)"
   ]
  },
  {
   "cell_type": "code",
   "execution_count": 11,
   "metadata": {
    "colab": {
     "base_uri": "https://localhost:8080/",
     "height": 195
    },
    "id": "ZKE5EbxrskLe",
    "outputId": "932f21c8-25b0-49b1-b7e9-42e455f7986d"
   },
   "outputs": [
    {
     "data": {
      "text/html": [
       "<div>\n",
       "<style scoped>\n",
       "    .dataframe tbody tr th:only-of-type {\n",
       "        vertical-align: middle;\n",
       "    }\n",
       "\n",
       "    .dataframe tbody tr th {\n",
       "        vertical-align: top;\n",
       "    }\n",
       "\n",
       "    .dataframe thead th {\n",
       "        text-align: right;\n",
       "    }\n",
       "</style>\n",
       "<table border=\"1\" class=\"dataframe\">\n",
       "  <thead>\n",
       "    <tr style=\"text-align: right;\">\n",
       "      <th></th>\n",
       "      <th>0</th>\n",
       "      <th>1</th>\n",
       "      <th>2</th>\n",
       "      <th>3</th>\n",
       "      <th>4</th>\n",
       "    </tr>\n",
       "  </thead>\n",
       "  <tbody>\n",
       "    <tr>\n",
       "      <th>0</th>\n",
       "      <td>60.257044</td>\n",
       "      <td>0.247158</td>\n",
       "      <td>39.396935</td>\n",
       "      <td>0.049432</td>\n",
       "      <td>0.049432</td>\n",
       "    </tr>\n",
       "    <tr>\n",
       "      <th>1</th>\n",
       "      <td>0.000000</td>\n",
       "      <td>99.853944</td>\n",
       "      <td>0.097371</td>\n",
       "      <td>0.048685</td>\n",
       "      <td>0.000000</td>\n",
       "    </tr>\n",
       "    <tr>\n",
       "      <th>2</th>\n",
       "      <td>0.000000</td>\n",
       "      <td>26.910710</td>\n",
       "      <td>73.089290</td>\n",
       "      <td>0.000000</td>\n",
       "      <td>0.000000</td>\n",
       "    </tr>\n",
       "    <tr>\n",
       "      <th>3</th>\n",
       "      <td>0.000000</td>\n",
       "      <td>0.000000</td>\n",
       "      <td>0.043066</td>\n",
       "      <td>66.968131</td>\n",
       "      <td>32.988803</td>\n",
       "    </tr>\n",
       "    <tr>\n",
       "      <th>4</th>\n",
       "      <td>0.032362</td>\n",
       "      <td>0.064725</td>\n",
       "      <td>0.000000</td>\n",
       "      <td>1.294498</td>\n",
       "      <td>98.608414</td>\n",
       "    </tr>\n",
       "  </tbody>\n",
       "</table>\n",
       "</div>"
      ],
      "text/plain": [
       "           0          1          2          3          4\n",
       "0  60.257044   0.247158  39.396935   0.049432   0.049432\n",
       "1   0.000000  99.853944   0.097371   0.048685   0.000000\n",
       "2   0.000000  26.910710  73.089290   0.000000   0.000000\n",
       "3   0.000000   0.000000   0.043066  66.968131  32.988803\n",
       "4   0.032362   0.064725   0.000000   1.294498  98.608414"
      ]
     },
     "execution_count": 11,
     "metadata": {
      "tags": []
     },
     "output_type": "execute_result"
    }
   ],
   "source": [
    "#Matrice de confusion voiture neuve\n",
    "\n",
    "from sklearn.metrics import confusion_matrix\n",
    "y_testArr = np.argmax(y_test.values, axis=1)\n",
    "y_pred = model.predict(X_test)\n",
    "y_pred2 = pd.DataFrame(np.argmax(y_pred, axis=1))\n",
    "pd.DataFrame(confusion_matrix(y_testArr, y_pred2, normalize='true') * 100)"
   ]
  },
  {
   "cell_type": "code",
   "execution_count": 13,
   "metadata": {
    "colab": {
     "base_uri": "https://localhost:8080/"
    },
    "id": "CaGK41fzbK4s",
    "outputId": "d287c74b-bfe7-476c-fad9-8e21a6229fe9"
   },
   "outputs": [
    {
     "name": "stderr",
     "output_type": "stream",
     "text": [
      "/usr/local/lib/python3.6/dist-packages/ipykernel_launcher.py:22: SettingWithCopyWarning: \n",
      "A value is trying to be set on a copy of a slice from a DataFrame.\n",
      "Try using .loc[row_indexer,col_indexer] = value instead\n",
      "\n",
      "See the caveats in the documentation: https://pandas.pydata.org/pandas-docs/stable/user_guide/indexing.html#returning-a-view-versus-a-copy\n",
      "/usr/local/lib/python3.6/dist-packages/ipykernel_launcher.py:23: SettingWithCopyWarning: \n",
      "A value is trying to be set on a copy of a slice from a DataFrame.\n",
      "Try using .loc[row_indexer,col_indexer] = value instead\n",
      "\n",
      "See the caveats in the documentation: https://pandas.pydata.org/pandas-docs/stable/user_guide/indexing.html#returning-a-view-versus-a-copy\n",
      "/usr/local/lib/python3.6/dist-packages/ipykernel_launcher.py:24: SettingWithCopyWarning: \n",
      "A value is trying to be set on a copy of a slice from a DataFrame.\n",
      "Try using .loc[row_indexer,col_indexer] = value instead\n",
      "\n",
      "See the caveats in the documentation: https://pandas.pydata.org/pandas-docs/stable/user_guide/indexing.html#returning-a-view-versus-a-copy\n",
      "/usr/local/lib/python3.6/dist-packages/ipykernel_launcher.py:18: SettingWithCopyWarning: \n",
      "A value is trying to be set on a copy of a slice from a DataFrame.\n",
      "Try using .loc[row_indexer,col_indexer] = value instead\n",
      "\n",
      "See the caveats in the documentation: https://pandas.pydata.org/pandas-docs/stable/user_guide/indexing.html#returning-a-view-versus-a-copy\n",
      "/usr/local/lib/python3.6/dist-packages/pandas/core/frame.py:3069: SettingWithCopyWarning: \n",
      "A value is trying to be set on a copy of a slice from a DataFrame.\n",
      "Try using .loc[row_indexer,col_indexer] = value instead\n",
      "\n",
      "See the caveats in the documentation: https://pandas.pydata.org/pandas-docs/stable/user_guide/indexing.html#returning-a-view-versus-a-copy\n",
      "  self[k1] = value[k2]\n"
     ]
    },
    {
     "name": "stdout",
     "output_type": "stream",
     "text": [
      "predicted\n",
      "predicted\n",
      "Epoch 1/10\n",
      "2975/2975 [==============================] - 7s 2ms/step - loss: 0.5734 - accuracy: 0.7312 - val_loss: 0.3637 - val_accuracy: 0.7913\n",
      "Epoch 2/10\n",
      "2975/2975 [==============================] - 6s 2ms/step - loss: 0.3478 - accuracy: 0.8074 - val_loss: 0.3558 - val_accuracy: 0.8040\n",
      "Epoch 3/10\n",
      "2975/2975 [==============================] - 6s 2ms/step - loss: 0.3443 - accuracy: 0.8069 - val_loss: 0.3545 - val_accuracy: 0.7987\n",
      "Epoch 4/10\n",
      "2975/2975 [==============================] - 6s 2ms/step - loss: 0.3419 - accuracy: 0.8092 - val_loss: 0.3512 - val_accuracy: 0.7953\n",
      "Epoch 5/10\n",
      "2975/2975 [==============================] - 6s 2ms/step - loss: 0.3406 - accuracy: 0.8102 - val_loss: 0.3495 - val_accuracy: 0.7990\n",
      "Epoch 6/10\n",
      "2975/2975 [==============================] - 6s 2ms/step - loss: 0.3395 - accuracy: 0.8096 - val_loss: 0.3524 - val_accuracy: 0.7907\n",
      "Epoch 7/10\n",
      "2975/2975 [==============================] - 6s 2ms/step - loss: 0.3388 - accuracy: 0.8097 - val_loss: 0.3489 - val_accuracy: 0.8057\n",
      "Epoch 8/10\n",
      "2975/2975 [==============================] - 6s 2ms/step - loss: 0.3392 - accuracy: 0.8088 - val_loss: 0.3491 - val_accuracy: 0.8017\n",
      "Epoch 9/10\n",
      "2975/2975 [==============================] - 6s 2ms/step - loss: 0.3374 - accuracy: 0.8103 - val_loss: 0.3479 - val_accuracy: 0.8013\n",
      "Epoch 10/10\n",
      "2975/2975 [==============================] - 6s 2ms/step - loss: 0.3375 - accuracy: 0.8095 - val_loss: 0.3566 - val_accuracy: 0.7953\n"
     ]
    }
   ],
   "source": [
    "# Voiture occasion: \n",
    "\n",
    "entree, sortie = create_entree_sortie(df_ent_occ)\n",
    "X_train, X_test, y_train, y_test = train_test_split(entree, sortie,test_size=0.02, random_state=42)\n",
    "\n",
    "n_units = 100\n",
    "layers = 3\n",
    "n_batch = 100\n",
    "n_epochs = 10\n",
    "\n",
    "model = Sequential()\n",
    "model.add(Dense(units = X_train.shape[1], input_dim=X_train.shape[1], activation='relu'))\n",
    "\n",
    "for _ in range(layers - 1):\n",
    "    model.add(Dense(n_units, activation='relu'))\n",
    "\n",
    "model.add(Dense(5, activation='softmax'))\n",
    "model.compile(loss='categorical_crossentropy', optimizer='adam', metrics=['accuracy'])\n",
    "\n",
    "history = model.fit(X_train, y_train, \n",
    "                    batch_size=n_batch, epochs=n_epochs, \n",
    "                    validation_split = 0.01,\n",
    "                    callbacks=[TensorBoard()],\n",
    "                    verbose=1)"
   ]
  },
  {
   "cell_type": "code",
   "execution_count": 14,
   "metadata": {
    "colab": {
     "base_uri": "https://localhost:8080/",
     "height": 195
    },
    "id": "KP8bEf-UcOEm",
    "outputId": "5ad9172d-5b61-4ace-9659-238b3d25ff68"
   },
   "outputs": [
    {
     "data": {
      "text/html": [
       "<div>\n",
       "<style scoped>\n",
       "    .dataframe tbody tr th:only-of-type {\n",
       "        vertical-align: middle;\n",
       "    }\n",
       "\n",
       "    .dataframe tbody tr th {\n",
       "        vertical-align: top;\n",
       "    }\n",
       "\n",
       "    .dataframe thead th {\n",
       "        text-align: right;\n",
       "    }\n",
       "</style>\n",
       "<table border=\"1\" class=\"dataframe\">\n",
       "  <thead>\n",
       "    <tr style=\"text-align: right;\">\n",
       "      <th></th>\n",
       "      <th>0</th>\n",
       "      <th>1</th>\n",
       "      <th>2</th>\n",
       "      <th>3</th>\n",
       "      <th>4</th>\n",
       "    </tr>\n",
       "  </thead>\n",
       "  <tbody>\n",
       "    <tr>\n",
       "      <th>0</th>\n",
       "      <td>58.815789</td>\n",
       "      <td>0.000000</td>\n",
       "      <td>41.052632</td>\n",
       "      <td>0.00000</td>\n",
       "      <td>0.131579</td>\n",
       "    </tr>\n",
       "    <tr>\n",
       "      <th>1</th>\n",
       "      <td>0.000000</td>\n",
       "      <td>86.825397</td>\n",
       "      <td>12.857143</td>\n",
       "      <td>0.00000</td>\n",
       "      <td>0.317460</td>\n",
       "    </tr>\n",
       "    <tr>\n",
       "      <th>2</th>\n",
       "      <td>0.060533</td>\n",
       "      <td>12.227603</td>\n",
       "      <td>87.711864</td>\n",
       "      <td>0.00000</td>\n",
       "      <td>0.000000</td>\n",
       "    </tr>\n",
       "    <tr>\n",
       "      <th>3</th>\n",
       "      <td>0.000000</td>\n",
       "      <td>0.000000</td>\n",
       "      <td>0.000000</td>\n",
       "      <td>36.38171</td>\n",
       "      <td>63.618290</td>\n",
       "    </tr>\n",
       "    <tr>\n",
       "      <th>4</th>\n",
       "      <td>0.000000</td>\n",
       "      <td>0.054735</td>\n",
       "      <td>0.054735</td>\n",
       "      <td>0.00000</td>\n",
       "      <td>99.890531</td>\n",
       "    </tr>\n",
       "  </tbody>\n",
       "</table>\n",
       "</div>"
      ],
      "text/plain": [
       "           0          1          2         3          4\n",
       "0  58.815789   0.000000  41.052632   0.00000   0.131579\n",
       "1   0.000000  86.825397  12.857143   0.00000   0.317460\n",
       "2   0.060533  12.227603  87.711864   0.00000   0.000000\n",
       "3   0.000000   0.000000   0.000000  36.38171  63.618290\n",
       "4   0.000000   0.054735   0.054735   0.00000  99.890531"
      ]
     },
     "execution_count": 14,
     "metadata": {
      "tags": []
     },
     "output_type": "execute_result"
    }
   ],
   "source": [
    "#Matrice de confusion voiture occasion\n",
    "\n",
    "y_testArr = np.argmax(y_test.values, axis=1)\n",
    "y_pred = model.predict(X_test)\n",
    "y_pred2 = pd.DataFrame(np.argmax(y_pred, axis=1))\n",
    "pd.DataFrame(confusion_matrix(y_testArr, y_pred2, normalize='true') * 100)"
   ]
  }
 ],
 "metadata": {
  "colab": {
   "name": "Réseau-de-Neuronnes.ipynb",
   "provenance": []
  },
  "kernelspec": {
   "display_name": "Python 3",
   "language": "python",
   "name": "python3"
  },
  "language_info": {
   "codemirror_mode": {
    "name": "ipython",
    "version": 3
   },
   "file_extension": ".py",
   "mimetype": "text/x-python",
   "name": "python",
   "nbconvert_exporter": "python",
   "pygments_lexer": "ipython3",
   "version": "3.8.5"
  }
 },
 "nbformat": 4,
 "nbformat_minor": 1
}
