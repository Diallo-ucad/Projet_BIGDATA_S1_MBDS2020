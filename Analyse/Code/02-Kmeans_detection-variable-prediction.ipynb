{
 "cells": [
  {
   "cell_type": "code",
   "execution_count": 1,
   "metadata": {
    "id": "CtYq0sLCRByu"
   },
   "outputs": [],
   "source": [
    "# normalisation\n",
    "\n",
    "from sklearn.preprocessing import MinMaxScaler, StandardScaler, RobustScaler, LabelBinarizer\n",
    "\n",
    "def showScaling(sc):\n",
    "  df = df_cat.copy()\n",
    "  cols = ['prix', 'puissance', 'longueur']\n",
    "  df[cols] = sc().fit_transform(df[cols])\n",
    "  plt.scatter(df.puissance, df.prix)\n",
    "  return df"
   ]
  },
  {
   "cell_type": "code",
   "execution_count": 2,
   "metadata": {
    "id": "lBR5_tcefbJ-"
   },
   "outputs": [],
   "source": [
    "import pandas as pd\n",
    "import numpy as np\n",
    "\n",
    "from sklearn.model_selection import train_test_split\n",
    "from sklearn.cluster import KMeans\n",
    "\n",
    "import matplotlib.pyplot as plt"
   ]
  },
  {
   "cell_type": "code",
   "execution_count": 3,
   "metadata": {
    "id": "36SRvFGYQ6jU"
   },
   "outputs": [],
   "source": [
    "df_cat = pd.read_csv(\"data/Catalogue.csv\")"
   ]
  },
  {
   "cell_type": "code",
   "execution_count": 4,
   "metadata": {
    "id": "PNDJcHQNf62f"
   },
   "outputs": [],
   "source": [
    "# numérisation de la colonne longueur pour améliorer les résultats\n",
    "\n",
    "def apply_longueur(x):\n",
    "    if (x == 'courte'):\n",
    "        return 10\n",
    "    if (x == 'moyenne'):\n",
    "        return 12\n",
    "    if (x == 'longue'):\n",
    "        return 14\n",
    "    if (x == 'tres longue'):\n",
    "        return 16\n",
    "    return x\n",
    "\n",
    "df_cat['longueur'] = df_cat['longueur'].apply(apply_longueur)"
   ]
  },
  {
   "cell_type": "code",
   "execution_count": 5,
   "metadata": {
    "id": "bDISJLg8id2N"
   },
   "outputs": [],
   "source": [
    "# fonctions utiles\n",
    "\n",
    "from sklearn.preprocessing import MinMaxScaler, StandardScaler, RobustScaler, LabelBinarizer\n",
    "\n",
    "def scalingDataFrame(sc):\n",
    "  df = df_cat.copy()\n",
    "  cols = ['prix', 'puissance', 'longueur']\n",
    "  df[cols] = sc().fit_transform(df[cols])\n",
    "  return df\n",
    "\n",
    "def dummiser(df,columns):\n",
    "  for column in columns:\n",
    "    print(column)\n",
    "    df[pd.get_dummies(df[column]).columns] = pd.get_dummies(df[column])\n",
    "    df = df.drop([column], axis=1)\n",
    "  return df"
   ]
  },
  {
   "cell_type": "code",
   "execution_count": 6,
   "metadata": {
    "colab": {
     "base_uri": "https://localhost:8080/"
    },
    "id": "AgP2fmk8Xgpj",
    "outputId": "6739f279-8020-4788-d0cc-429033325894"
   },
   "outputs": [
    {
     "name": "stdout",
     "output_type": "stream",
     "text": [
      "nbPlaces\n"
     ]
    },
    {
     "data": {
      "text/plain": [
       "32"
      ]
     },
     "execution_count": 6,
     "metadata": {},
     "output_type": "execute_result"
    }
   ],
   "source": [
    "# dataframe d'entrainement\n",
    "df_train = scalingDataFrame(MinMaxScaler)\n",
    "df_cat_dum = dummiser(df_train.drop(['couleur', 'Type', 'nbPortes'], axis=1),\n",
    "                      ['nbPlaces'])\n",
    "\n",
    "df_train = df_cat_dum[df_cat_dum.occasion == False]\n",
    "df_train = df_train.drop_duplicates()\n",
    "\n",
    "df_train.shape[0]"
   ]
  },
  {
   "cell_type": "code",
   "execution_count": 7,
   "metadata": {
    "id": "t1JhznDC3hfG"
   },
   "outputs": [],
   "source": [
    "# Affichage de l'inertie optimale\n",
    "\n",
    "def plotKmeansInertia(df, min=1, max=10):\n",
    "  inertia = []\n",
    "  K_range = range(min, max)\n",
    "  for k in K_range :\n",
    "    model = KMeans(n_clusters=k, random_state=1).fit(df)\n",
    "    inertia.append(model.inertia_)\n",
    "\n",
    "  # params = {\"ytick.color\" : \"w\",\n",
    "  #         \"xtick.color\" : \"w\",\n",
    "  #         \"axes.labelcolor\" : \"w\",\n",
    "  #         \"axes.edgecolor\" : \"w\"}\n",
    "  # plt.rcParams.update(params)\n",
    "  plt.plot(K_range, inertia)\n",
    "  plt.xlabel('Nombre de clusters')\n",
    "  plt.ylabel('Cout du modèle (Inertia)')\n",
    "  # plt.savefig('new_data/inertieKmeans.png')"
   ]
  },
  {
   "cell_type": "code",
   "execution_count": 8,
   "metadata": {
    "colab": {
     "base_uri": "https://localhost:8080/",
     "height": 281
    },
    "id": "BrckWSd232yn",
    "outputId": "f56ae8bb-93e6-48c2-d3f0-c8dd2d331901"
   },
   "outputs": [
    {
     "data": {
      "image/png": "[encoded data removed]",
      "text/plain": [
       "<Figure size 432x288 with 1 Axes>"
      ]
     },
     "metadata": {
      "needs_background": "light"
     },
     "output_type": "display_data"
    }
   ],
   "source": [
    "plotKmeansInertia(df_train.drop(['nom', 'marque'], axis=1), max=15)"
   ]
  },
  {
   "cell_type": "code",
   "execution_count": 9,
   "metadata": {
    "colab": {
     "base_uri": "https://localhost:8080/"
    },
    "id": "WCyJp4Xa4VEK",
    "outputId": "8727cd28-2c1b-4c3f-f1d5-c786159f1a31"
   },
   "outputs": [
    {
     "data": {
      "text/plain": [
       "1    8\n",
       "4    7\n",
       "0    7\n",
       "3    4\n",
       "2    4\n",
       "5    2\n",
       "Name: predicted, dtype: int64"
      ]
     },
     "execution_count": 9,
     "metadata": {},
     "output_type": "execute_result"
    }
   ],
   "source": [
    "# KMeans\n",
    "\n",
    "def clusteringKmeans (df, n_clusters, nomType):\n",
    "  model = KMeans(n_clusters=n_clusters, random_state=5)\n",
    "  model.fit(df.drop(['nom', 'marque'], axis=1))\n",
    "  result = model.predict(df.drop(['nom', 'marque'], axis=1))\n",
    "  df[nomType] = result\n",
    "  return df\n",
    "df_kmeans = clusteringKmeans(df_train, 6, 'predicted')\n",
    "df_kmeans.predicted.value_counts()"
   ]
  },
  {
   "cell_type": "code",
   "execution_count": 10,
   "metadata": {
    "colab": {
     "base_uri": "https://localhost:8080/"
    },
    "id": "oCtlciXx5Gk_",
    "outputId": "b77c4b2f-6217-46c2-a550-eaf7093b5325"
   },
   "outputs": [
    {
     "data": {
      "text/plain": [
       "Index(['marque', 'nom', 'puissance', 'longueur', 'nbPlaces', 'nbPortes',\n",
       "       'couleur', 'occasion', 'prix', 'Type', 'predicted'],\n",
       "      dtype='object')"
      ]
     },
     "execution_count": 10,
     "metadata": {},
     "output_type": "execute_result"
    }
   ],
   "source": [
    "# insersertion de predicted dans df_cat\n",
    "\n",
    "df_cat_type = pd.read_csv(\"data/Catalogue.csv\")\n",
    "\n",
    "for i in df_cat_type.index.tolist():\n",
    "  nom = df_cat_type.at[i,'nom']\n",
    "  df_cat_type.at[i,'predicted'] = df_kmeans[df_kmeans.nom == nom].predicted.values[0]\n",
    "\n",
    "df_cat_type.columns"
   ]
  },
  {
   "cell_type": "markdown",
   "metadata": {
    "id": "1kEQWinzlmJz"
   },
   "source": [
    "# Transfert de véhicule d'un cluster à un autre\n",
    "Pour améliorer les résultats"
   ]
  },
  {
   "cell_type": "code",
   "execution_count": 11,
   "metadata": {
    "colab": {
     "base_uri": "https://localhost:8080/"
    },
    "id": "z1qrTRDwlt9O",
    "outputId": "394c8af5-d4fc-40b7-8b3c-68184135e53b"
   },
   "outputs": [
    {
     "data": {
      "text/plain": [
       "Index(['marque', 'nom', 'puissance', 'longueur', 'nbPlaces', 'nbPortes',\n",
       "       'couleur', 'occasion', 'prix', 'Type', 'predicted'],\n",
       "      dtype='object')"
      ]
     },
     "execution_count": 11,
     "metadata": {},
     "output_type": "execute_result"
    }
   ],
   "source": [
    "df_kmeans_cor = df_kmeans.copy()\n",
    "# Copper 1.6 16V\n",
    "df_kmeans_cor.loc[140, 'predicted'] = 1.0\n",
    "# A2 1.4\n",
    "df_kmeans_cor.loc[261, 'predicted'] = 1.0\n",
    "\n",
    "# Logan 1.6 MPI\n",
    "df_kmeans_cor.loc[225, 'predicted'] = 0.0\n",
    "# Almera 1.8\n",
    "df_kmeans_cor.loc[130, 'predicted'] = 0.0\n",
    "\n",
    "# X-Type 2.5 V6\n",
    "df_kmeans_cor.loc[180, 'predicted'] = 3.0\n",
    "# 9.3 1.8T\n",
    "df_kmeans_cor.loc[65, 'predicted'] = 3.0\n",
    "\n",
    "# insersertion de predicted dans df_cat\n",
    "\n",
    "df_cat_type = pd.read_csv(\"data/Catalogue.csv\")\n",
    "\n",
    "for i in df_cat_type.index.tolist():\n",
    "  nom = df_cat_type.at[i,'nom']\n",
    "  df_cat_type.at[i,'predicted'] = df_kmeans_cor[df_kmeans_cor.nom == nom].predicted.values[0]\n",
    "\n",
    "df_cat_type.columns"
   ]
  },
  {
   "cell_type": "markdown",
   "metadata": {
    "id": "nbALCPL4ldEn"
   },
   "source": [
    "#Renommage des variables"
   ]
  },
  {
   "cell_type": "code",
   "execution_count": 12,
   "metadata": {
    "colab": {
     "base_uri": "https://localhost:8080/"
    },
    "id": "nvKoOMD0lZ9K",
    "outputId": "3c013f52-7725-4ee2-bcec-7276a0f9129e"
   },
   "outputs": [
    {
     "data": {
      "text/plain": [
       "Ville/courte - 2eme gamme    80\n",
       "Route 2eme gamme             50\n",
       "Ville/courte - 1ere gamme    50\n",
       "Route 1ere gamme             40\n",
       "Monospace                    30\n",
       "Haut de gamme                20\n",
       "Name: predicted, dtype: int64"
      ]
     },
     "execution_count": 12,
     "metadata": {},
     "output_type": "execute_result"
    }
   ],
   "source": [
    "def apply_pred(x):\n",
    "    if (x == 0):\n",
    "        return 'Ville/courte - 1ere gamme'\n",
    "    if (x == 1):\n",
    "        return 'Ville/courte - 2eme gamme'\n",
    "    if (x == 2):\n",
    "        return 'Monospace'\n",
    "    if (x == 3):\n",
    "        return 'Route 2eme gamme'\n",
    "    if (x == 4):\n",
    "        return 'Route 1ere gamme'\n",
    "    if (x == 5):\n",
    "        return 'Haut de gamme'\n",
    "    return x\n",
    "\n",
    "df_cat_type['predicted'] = df_cat_type['predicted'].apply(apply_pred)\n",
    "df_cat_type['predicted'].value_counts()"
   ]
  },
  {
   "cell_type": "markdown",
   "metadata": {
    "id": "9yXYpNTHmSf0"
   },
   "source": [
    "# Export du fichier catalogue_kmeans_final\n",
    "\n",
    "NE PAS LANCER UNE SECONDE FOIS LE CODE. Le fichier à déjà été exporté une première fois dans une version propre."
   ]
  },
  {
   "cell_type": "code",
   "execution_count": 13,
   "metadata": {
    "id": "hKVxyIFs18E1"
   },
   "outputs": [],
   "source": [
    "# df_cat_type.to_csv(path_or_buf='new_data/catalogue_kmeans_final.csv', sep=',', index=False)"
   ]
  },
  {
   "cell_type": "markdown",
   "metadata": {
    "id": "1G9ErxrfnE4B"
   },
   "source": [
    "# Visu du fichier final"
   ]
  },
  {
   "cell_type": "code",
   "execution_count": 14,
   "metadata": {
    "colab": {
     "base_uri": "https://localhost:8080/"
    },
    "id": "FPp76c8_nDzA",
    "outputId": "ac8f0cc8-0351-4b98-befa-572d939206c8"
   },
   "outputs": [
    {
     "name": "stdout",
     "output_type": "stream",
     "text": [
      "value =  Ville/courte - 1ere gamme\n",
      "         marque              nom   prix  puissance longueur  \\\n",
      "21   Volkswagen      Polo 1.2 6V  12200         55   courte   \n",
      "111     Peugeot         1007 1.4  13750         75   courte   \n",
      "130      Nissan       Almera 1.8  16450        115  moyenne   \n",
      "165      Lancia  Ypsilon 1.4 16V  13500         90   courte   \n",
      "175         Kia      Picanto 1.1   8990         65   courte   \n",
      "220    Daihatsu        Cuore 1.0   8850         58   courte   \n",
      "225       Dacia    Logan 1.6 MPI   7500         90  moyenne   \n",
      "\n",
      "                     predicted  \n",
      "21   Ville/courte - 1ere gamme  \n",
      "111  Ville/courte - 1ere gamme  \n",
      "130  Ville/courte - 1ere gamme  \n",
      "165  Ville/courte - 1ere gamme  \n",
      "175  Ville/courte - 1ere gamme  \n",
      "220  Ville/courte - 1ere gamme  \n",
      "225  Ville/courte - 1ere gamme  \n",
      "value =  Ville/courte - 2eme gamme\n",
      "         marque             nom   prix  puissance longueur  \\\n",
      "35   Volkswagen  New Beatle 1.8  26630        110  moyenne   \n",
      "45   Volkswagen    Golf 2.0 FSI  22900        150  moyenne   \n",
      "85      Renault  Megane 2.0 16V  22350        135  moyenne   \n",
      "140        Mini  Copper 1.6 16V  18200        115   courte   \n",
      "155    Mercedes            A200  25900        136  moyenne   \n",
      "241         BMW            120i  35800        150  moyenne   \n",
      "251        Audi      A3 2.0 FSI  28500        150  moyenne   \n",
      "261        Audi          A2 1.4  18310         75   courte   \n",
      "\n",
      "                     predicted  \n",
      "35   Ville/courte - 2eme gamme  \n",
      "45   Ville/courte - 2eme gamme  \n",
      "85   Ville/courte - 2eme gamme  \n",
      "140  Ville/courte - 2eme gamme  \n",
      "155  Ville/courte - 2eme gamme  \n",
      "241  Ville/courte - 2eme gamme  \n",
      "251  Ville/courte - 2eme gamme  \n",
      "261  Ville/courte - 2eme gamme  \n",
      "value =  Route 1ere gamme\n",
      "      marque          nom   prix  puissance longueur         predicted\n",
      "55      Seat   Toledo 1.6  18880        102   longue  Route 1ere gamme\n",
      "95   Renault  Laguna 2.0T  27300        170   longue  Route 1ere gamme\n",
      "120   Nissan  Primera 1.6  18650        109   longue  Route 1ere gamme\n",
      "205     Ford   Mondeo 1.8  23900        125   longue  Route 1ere gamme\n",
      "214     Fiat    Croma 2.2  24780        147   longue  Route 1ere gamme\n",
      "value =  Route 2eme gamme\n",
      "      marque               nom   prix  puissance     longueur  \\\n",
      "0      Volvo            S80 T6  50500        272  tres longue   \n",
      "50     Skoda     Superb 2.8 V6  31790        193  tres longue   \n",
      "65      Saab          9.3 1.8T  38600        150       longue   \n",
      "75   Renault  Vel Satis 3.5 V6  49200        245  tres longue   \n",
      "125   Nissan     Maxima 3.0 V6  30000        200  tres longue   \n",
      "180   Jaguar     X-Type 2.5 V6  37100        197       longue   \n",
      "\n",
      "            predicted  \n",
      "0    Route 2eme gamme  \n",
      "50   Route 2eme gamme  \n",
      "65   Route 2eme gamme  \n",
      "75   Route 2eme gamme  \n",
      "125  Route 2eme gamme  \n",
      "180  Route 2eme gamme  \n",
      "value =  Haut de gamme\n",
      "       marque   nom    prix  puissance     longueur      predicted\n",
      "149  Mercedes  S500  101300        306  tres longue  Haut de gamme\n",
      "231       BMW    M5   94800        507  tres longue  Haut de gamme\n"
     ]
    }
   ],
   "source": [
    "df_cat_type = pd.read_csv(\"new_data/catalogue_kmeans_final.csv\")\n",
    "label = ['Ville/courte - 1ere gamme',\n",
    "              'Ville/courte - 2eme gamme',\n",
    "              'Route 1ere gamme',\n",
    "              'Route 2eme gamme',\n",
    "              'Haut de gamme',\n",
    "              ]\n",
    "df_test = df_cat_type[df_cat_type.occasion == False][['marque', 'nom', 'prix', 'puissance', 'predicted', 'longueur']].drop_duplicates()\n",
    "for i in label:\n",
    "  print('value = ', i)\n",
    "  df_p= df_test[df_test.predicted == i]\n",
    "  print(df_p[['marque', 'nom', 'prix', 'puissance', 'longueur', 'predicted']])"
   ]
  },
  {
   "cell_type": "markdown",
   "metadata": {
    "id": "uT-fVb50UFfV"
   },
   "source": [
    "Contruction du fichier Client_immatriculation avec nos variables de classes choisies avec KMeans"
   ]
  },
  {
   "cell_type": "code",
   "execution_count": 15,
   "metadata": {
    "id": "Df3_y94HTuoQ"
   },
   "outputs": [],
   "source": [
    "df_clients = pd.read_csv(\"data/Clients_immatriculation.csv\")\n",
    "df_cat_type = pd.read_csv(\"new_data/catalogue_kmeans_final.csv\")\n",
    "df_cat_type_unique = df_cat_type[['marque', 'nom', 'puissance', 'longueur', 'nbPlaces', 'nbPortes',\n",
    "       'occasion', 'prix', 'Type', 'predicted']].drop_duplicates()\n",
    "df_clients_final = pd.merge(df_clients,df_cat_type_unique, on=['marque', 'nom', 'puissance', 'longueur', 'nbPlaces', 'nbPortes', 'occasion', 'prix'])\n",
    "\n",
    "df_clients_final.to_csv('new_data/Clients_immatriculation_predicted.csv', index=False)"
   ]
  },
  {
   "cell_type": "code",
   "execution_count": null,
   "metadata": {},
   "outputs": [],
   "source": []
  }
 ],
 "metadata": {
  "colab": {
   "name": "Detection_variable_prediction.ipynb",
   "provenance": [],
   "toc_visible": true
  },
  "kernelspec": {
   "display_name": "Python 3",
   "language": "python",
   "name": "python3"
  },
  "language_info": {
   "codemirror_mode": {
    "name": "ipython",
    "version": 3
   },
   "file_extension": ".py",
   "mimetype": "text/x-python",
   "name": "python",
   "nbconvert_exporter": "python",
   "pygments_lexer": "ipython3",
   "version": "3.8.5"
  }
 },
 "nbformat": 4,
 "nbformat_minor": 1
}
